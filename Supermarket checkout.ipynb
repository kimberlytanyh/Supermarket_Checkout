{
 "cells": [
  {
   "cell_type": "code",
   "execution_count": null,
   "metadata": {},
   "outputs": [],
   "source": [
    "#Putting it together"
   ]
  },
  {
   "cell_type": "code",
   "execution_count": 2,
   "metadata": {},
   "outputs": [
    {
     "name": "stdout",
     "output_type": "stream",
     "text": [
      "Express checkout is for 5 items or less. Please use Regular checkout for more items.\n",
      "Indicate the checkout method you are using(Express or Regular): Express\n",
      "Please enter the name of the item: Cake\n",
      "Please enter the price of the item: 9.99\n",
      "Do you have more items to add? (Y/N) Y\n",
      "Please enter the name of the item: Soda\n",
      "Please enter the price of the item: 1.99\n",
      "Do you have more items to add? (Y/N) Y\n",
      "Please enter the name of the item: Chips\n",
      "Please enter the price of the item: 1.50\n",
      "Do you have more items to add? (Y/N) N\n",
      "Cake - 9.99\n",
      "Soda - 1.99\n",
      "Chips - 1.50\n",
      "\n",
      "Total - 13.48\n",
      "Please indicate whether you are paying by \"Cash\" or \"Credit Card\": Cash\n",
      "Please indicate how much you are paying in cash: 12.00\n",
      "Cash paid - 12.00\n",
      "Remaining due - 1.48\n",
      "Cash paid- 1.48\n",
      "Change Due - 0.00\n",
      "Thank you for your purchase!\n"
     ]
    }
   ],
   "source": [
    "print(\"Express checkout is for 5 items or less. Please use Regular checkout for more items.\")\n",
    "checkout_type = input(\"Indicate the checkout method you are using(Express or Regular): \")\n",
    "if checkout_type == \"Express\":\n",
    "    items = \"\"\n",
    "    total = 0.00\n",
    "    answer = \"Y\"\n",
    "    count = 1\n",
    "    while answer == \"Y\":\n",
    "        item_name = input(\"Please enter the name of the item: \")\n",
    "        item_price = float(input(\"Please enter the price of the item: \"))\n",
    "        items += item_name + \" - \" + str(\"{:.2f}\".format(item_price)) + \"\\n\"\n",
    "        total += item_price\n",
    "        count = count+1\n",
    "        if count>5:\n",
    "            break\n",
    "        answer = input(\"Do you have more items to add? (Y/N) \")\n",
    "    print(items)\n",
    "    print(\"Total -\",total)\n",
    "if checkout_type == \"Regular\":\n",
    "    items = \"\"\n",
    "    total = 0.00\n",
    "    answer = \"Y\"\n",
    "    while answer == \"Y\":\n",
    "        item_name = input(\"Please enter the name of the item: \")\n",
    "        item_price = float(input(\"Please enter the price of the item: \"))\n",
    "        items += item_name + \" - \" + str(\"{:.2f}\".format(item_price)) + \"\\n\"\n",
    "        total += item_price\n",
    "        answer = input(\"Do you have more items to add? (Y/N) \")\n",
    "    print(items)\n",
    "    print(\"Total -\",\"{:.2f}\".format(total))\n",
    "    \n",
    "Payment_method = input(\"Please indicate whether you are paying by \\\"Cash\\\" or \\\"Credit Card\\\": \")\n",
    "if Payment_method == \"Cash\":\n",
    "    Payment_amount = float(input(\"Please indicate how much you are paying in cash: \"))\n",
    "else: \n",
    "    print(\"Credit card charged -\", total)\n",
    "    print(\"Change due - o.oo\")\n",
    "if Payment_method == \"Cash\": \n",
    "    print(\"Cash paid -\", \"{:.2f}\".format(Payment_amount))\n",
    "    if Payment_amount >= total:\n",
    "        print(\"Change due -\", \"{:.2f}\".format(Payment_amount-total))\n",
    "    else:\n",
    "        print(\"Remaining due -\", \"{:.2f}\".format(total-Payment_amount))\n",
    "        float(input(\"Cash paid- \"))\n",
    "        print(\"Change Due - 0.00\")\n",
    "print(\"Thank you for your purchase!\")"
   ]
  },
  {
   "cell_type": "code",
   "execution_count": null,
   "metadata": {},
   "outputs": [],
   "source": [
    "##Notes and Methodology Step-by-Step"
   ]
  },
  {
   "cell_type": "code",
   "execution_count": null,
   "metadata": {},
   "outputs": [],
   "source": [
    "checkout_type = input(\"Indicate the checkout method you are using(Express or Regular): \")"
   ]
  },
  {
   "cell_type": "code",
   "execution_count": null,
   "metadata": {},
   "outputs": [],
   "source": [
    "#From Assignment 1"
   ]
  },
  {
   "cell_type": "code",
   "execution_count": null,
   "metadata": {},
   "outputs": [],
   "source": [
    "First_item_name = input(\"Please enter the name of the first item: \")\n",
    "Second_item_name = input(\"Please enter the name of the second item: \")\n",
    "Third_item_name = input(\"Please enter the name of the third item: \")\n",
    "First_item_price = float(input(\"Please enter the price of the first item: \"))\n",
    "Second_item_price = float(input(\"Please enter the price of the second item: \"))\n",
    "Third_item_price = float(input(\"Please enter the price of the third item: \"))\n",
    "print(First_item_name,\"-\", \"{:.2f}\".format(First_item_price))\n",
    "print(Second_item_name, \"-\", \"{:.2f}\".format(Second_item_price))\n",
    "print(Third_item_name, \"-\", \"{:.2f}\".format(Third_item_price))\n",
    "Total = First_item_price + Second_item_price + Third_item_price\n",
    "print(\"Total -\", Total)"
   ]
  },
  {
   "cell_type": "code",
   "execution_count": null,
   "metadata": {},
   "outputs": [],
   "source": [
    "#Assignment 3 Modification"
   ]
  },
  {
   "cell_type": "code",
   "execution_count": null,
   "metadata": {},
   "outputs": [],
   "source": [
    "#Express Checkout Method 1\n",
    "if checkout_type == \"Express\":\n",
    "    items = \"\"\n",
    "    total = 0.00\n",
    "    answer = \"Y\"\n",
    "    count = 1\n",
    "    while answer == \"Y\" and count <= 5:\n",
    "        item_name = input(\"Please enter the name of the item: \")\n",
    "        item_price = float(input(\"Please enter the price of the item: \"))\n",
    "        items += item_name + \" - \" + str(item_price) + \"\\n\"\n",
    "        total += item_price\n",
    "        count= count+1\n",
    "        answer = input(\"Do you have more items to add? (Y/N) \")\n",
    "    print(items)\n",
    "    print(\"Total -\",total)"
   ]
  },
  {
   "cell_type": "code",
   "execution_count": null,
   "metadata": {},
   "outputs": [],
   "source": [
    "#Express Checkout Method 2 #OR\n",
    "if checkout_type == \"Express\":\n",
    "    items = \"\"\n",
    "    total = 0.00\n",
    "    answer = \"Y\"\n",
    "    count = 0\n",
    "    while answer == \"Y\":\n",
    "        item_name = input(\"Please enter the name of the item: \")\n",
    "        item_price = float(input(\"Please enter the price of the item: \"))\n",
    "        items += item_name + \" - \" + str(item_price) + \"\\n\"\n",
    "        total += item_price\n",
    "        count = count+1\n",
    "        if count>=5:\n",
    "            break\n",
    "        answer = input(\"Do you have more items to add? (Y/N) \")\n",
    "    print(items)\n",
    "    print(\"Total -\",total)"
   ]
  },
  {
   "cell_type": "code",
   "execution_count": null,
   "metadata": {},
   "outputs": [],
   "source": [
    "#Regular Checkout\n",
    "if checkout_type == \"Regular\":\n",
    "    items = \"\"\n",
    "    total = 0.00\n",
    "    answer = \"Y\"\n",
    "    while answer == \"Y\":\n",
    "        item_name = input(\"Please enter the name of the item: \")\n",
    "        item_price = float(input(\"Please enter the price of the item: \"))\n",
    "        items += item_name + \" - \" + str(item_price) + \"\\n\"\n",
    "        total += item_price\n",
    "        answer = input(\"Do you have more items to add? (Y/N) \")\n",
    "    print(items)\n",
    "    print(\"Total -\",total)"
   ]
  },
  {
   "cell_type": "code",
   "execution_count": null,
   "metadata": {},
   "outputs": [],
   "source": [
    "#From Assignment 2"
   ]
  },
  {
   "cell_type": "code",
   "execution_count": null,
   "metadata": {},
   "outputs": [],
   "source": [
    "Payment_method = input(\"Please indicate whether you are paying by \\\"Cash\\\" or \\\"Credit Card\\\": \")\n",
    "if Payment_method == \"Cash\":\n",
    "    Payment_amount = float(input(\"Please indicate how much you are paying in cash: \"))\n",
    "else: \n",
    "    print(\"Credit card charged -\", Total)\n",
    "    print(\"Change due - o.oo\")\n",
    "if Payment_method == \"Cash\": \n",
    "    print(\"Cash paid -\", \"{:.2f}\".format(Payment_amount))\n",
    "    if Payment_amount >= Total:\n",
    "        print(\"Change due -\", Payment_amount-Total)\n",
    "    else:\n",
    "        print(\"Remaining due -\", \"{:.2f}\".format(Total-Payment_amount))\n",
    "        float(input(\"Cash paid- \"))\n",
    "        print(\"Change Due - 0.00\")\n",
    "print(\"Thank you for your purchase!\")"
   ]
  }
 ],
 "metadata": {
  "kernelspec": {
   "display_name": "Python 3 (ipykernel)",
   "language": "python",
   "name": "python3"
  },
  "language_info": {
   "codemirror_mode": {
    "name": "ipython",
    "version": 3
   },
   "file_extension": ".py",
   "mimetype": "text/x-python",
   "name": "python",
   "nbconvert_exporter": "python",
   "pygments_lexer": "ipython3",
   "version": "3.8.11"
  }
 },
 "nbformat": 4,
 "nbformat_minor": 4
}
